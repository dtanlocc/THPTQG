{
  "nbformat": 4,
  "nbformat_minor": 0,
  "metadata": {
    "colab": {
      "name": "THPTQG.ipynb",
      "provenance": [],
      "mount_file_id": "1ra0yajnx_v0SY56frrGHmuDSsieS8t0E",
      "authorship_tag": "ABX9TyMG97TpN7p9yCY509/R0qzz",
      "include_colab_link": true
    },
    "kernelspec": {
      "name": "python3",
      "display_name": "Python 3"
    },
    "language_info": {
      "name": "python"
    },
    "gpuClass": "standard"
  },
  "cells": [
    {
      "cell_type": "markdown",
      "metadata": {
        "id": "view-in-github",
        "colab_type": "text"
      },
      "source": [
        "<a href=\"https://colab.research.google.com/github/tanloc2209/THPTQG/blob/main/THPTQG.ipynb\" target=\"_parent\"><img src=\"https://colab.research.google.com/assets/colab-badge.svg\" alt=\"Open In Colab\"/></a>"
      ]
    },
    {
      "cell_type": "markdown",
      "source": [
        "###**1.   Kết nối với drive để tạo thư mục và file lưu dữ data**"
      ],
      "metadata": {
        "id": "79C-01iZvUvt"
      }
    },
    {
      "cell_type": "code",
      "source": [
        "from google.colab import drive\n",
        "drive.mount(\"/content/gdrive\")"
      ],
      "metadata": {
        "colab": {
          "base_uri": "https://localhost:8080/"
        },
        "id": "K307lAvNysjA",
        "outputId": "d89ac0ab-fbe6-48a5-f077-bad77df04575"
      },
      "execution_count": 2,
      "outputs": [
        {
          "output_type": "stream",
          "name": "stdout",
          "text": [
            "Mounted at /content/gdrive\n"
          ]
        }
      ]
    },
    {
      "cell_type": "markdown",
      "source": [
        "\n",
        "###**2.   import thư viện cần thiết**"
      ],
      "metadata": {
        "id": "dp8pDteg8WIG"
      }
    },
    {
      "cell_type": "code",
      "execution_count": 3,
      "metadata": {
        "id": "e7B9riSZ7_DA"
      },
      "outputs": [],
      "source": [
        "import requests\n",
        "import json\n",
        "import csv\n",
        "import pandas\n",
        "import os"
      ]
    },
    {
      "cell_type": "markdown",
      "source": [
        "###**3.   Tạo lớp để lấy điểm dựa vào năm thi và số báo danh**\n"
      ],
      "metadata": {
        "id": "1DgB95In8amn"
      }
    },
    {
      "cell_type": "code",
      "source": [
        "class GetData:\n",
        "  def __init__(self,year,SBD) -> None:\n",
        "    self.year = year\n",
        "    self.id= SBD\n",
        "\n",
        "  def _getLink(self):\n",
        "    return f\"https://diemthi.vnanet.vn/Home/SearchBySobaodanhFile?code={self.id}&nam={self.year}\"\n",
        "  \n",
        "  def rawData(self):\n",
        "    \n",
        "    url = self._getLink()\n",
        "    response = requests.get(url)\n",
        "    data = response.json()\n",
        "    return data['result'][0]\n"
      ],
      "metadata": {
        "id": "iD4tGlLe8LNT"
      },
      "execution_count": 4,
      "outputs": []
    },
    {
      "cell_type": "markdown",
      "source": [
        "###**4.  Tạo số báo danh dựa vào danh sách mã tỉnh**\n",
        "DANH SÁCH MÃ TỈNH 2 SỐ ĐẦU CỦA SBD\n",
        "*   01 - THÀNH PHỐ HÀ NỘI\n",
        "*   02 - THÀNH PHỐ HỒ CHÍ MINH\n",
        "*   03 - THÀNH PHỐ HẢI PHÒNG\n",
        "*   04 - THÀNH PHỐ ĐÀ NẴNG\n",
        "*   05 - TỈNH HÀ GIANG\n",
        "*   06 - TỈNH CAO BẰNG\n",
        "*   07 - TỈNH LAI CHÂU\n",
        "*   08 - TỈNH LÀO CAI\n",
        "*   09 - TỈNH TUYÊN QUANG\n",
        "*   10 - TỈNH LẠNG SƠN\n",
        "*   11 - TỈNH BẮC KẠN\n",
        "*   12 - TỈNH THÁI NGUYÊN\n",
        "*   13 - TỈNH YÊN BÁI\n",
        "*   14 - TỈNH SƠN LA\n",
        "*   15 - TỈNH PHÚ THỌ\n",
        "*   16 - TỈNH VĨNH PHÚC\n",
        "*   17 - TỈNH QUẢNG NINH\n",
        "*   18 - TỈNH BẮC GIANG\n",
        "*   19 - TỈNH BẮC NINH\n",
        "*   21 - TỈNH HẢI DƯƠNG\n",
        "*   22 - TỈNH HƯNG YÊN\n",
        "*   23 - TỈNH HÒA BÌNH\n",
        "*   24 - TỈNH HÀ NAM\n",
        "*   25 - TỈNH NAM ĐỊNH\n",
        "*   26 – TỈNH THÁI BÌNH\n",
        "*   27 – TỈNH NINH BÌNH\n",
        "*   28 – TỈNH THANH HÓA\n",
        "*   29 – TỈNH NGHỆ AN\n",
        "*   30 – TỈNH HÀ TĨNH\n",
        "*   31 – TỈNH QUẢNG BÌNH\n",
        "*   32 – TỈNH QUẢNG TRỊ\n",
        "*   33 – TỈNH THỪA THIÊN - HUẾ\n",
        "*   34 – TỈNH QUẢNG NAM\n",
        "*   35 – TỈNH QUẢNG NGÃI\n",
        "*   36 – TỈNH KON TUM\n",
        "*   37 – TỈNH BÌNH ĐỊNH\n",
        "*   38 – TỈNH GIA LAI\n",
        "*   39 – TỈNH PHÚ YÊN\n",
        "*   40 – TỈNH ĐẮK LẮK\n",
        "*   41 – TỈNH KHÁNH HÒA\n",
        "*   42 – TỈNH LÂM ĐỒNG\n",
        "*   43 – TỈNH BÌNH PHƯỚC\n",
        "*   44 – TỈNH BÌNH DƯƠNG\n",
        "*   45 – TỈNH NINH THUẬN\n",
        "*   46 – TỈNH TÂY NINH\n",
        "*   47 – TỈNH BÌNH THUẬN\n",
        "*   48 – TỈNH ĐỒNG NAI\n",
        "*   49 – TỈNH LONG AN\n",
        "*   50 – TỈNH ĐỒNG THÁP\n",
        "*   51 – TỈNH AN GIANG\n",
        "*   52 – TỈNH BÀ RỊA – VŨNG TÀU\n",
        "*   53 – TỈNH TIỀN GIANG\n",
        "*   54 – TỈNH KIÊN GIANG\n",
        "*   55 – THÀNH PHỐ CẦN THƠ\n",
        "*   56 – TỈNH BẾN TRE\n",
        "*   57 – TỈNH VĨNH LONG\n",
        "*   58 – TỈNH TRÀ VINH\n",
        "*   59 – TỈNH SÓC TRĂNG\n",
        "*   60 – TỈNH BẠC LIÊU\n",
        "*   61 – TỈNH CÀ MAU\n",
        "*   62 – TỈNH ĐIỆN BIÊN\n",
        "*   63 – TỈNH ĐĂK NÔNG\n",
        "*   64 – TỈNH HẬU GIANG"
      ],
      "metadata": {
        "id": "K0LJXxQdutiG"
      }
    },
    {
      "cell_type": "code",
      "source": [
        "class CreateSBD:\n",
        "  def __init__(self,idTinh,number) -> None:\n",
        "      self.id = idTinh\n",
        "      self.number = number\n",
        "  def numberOfnumber(self,number):\n",
        "    count =0\n",
        "    while (number >0):\n",
        "      count += 1\n",
        "      number = number//10\n",
        "    return count\n",
        "  \n",
        "  def create(self):\n",
        "    if self.id//10 == 0:\n",
        "      SBD = \"0\" + str(self.id)\n",
        "    else:\n",
        "      SBD = str(self.id)\n",
        "    count = self.numberOfnumber(self.number)\n",
        "    SBD += (6-count)*\"0\"+str(self.number)\n",
        "    return SBD"
      ],
      "metadata": {
        "id": "p6_rzX2kq_Qx"
      },
      "execution_count": 17,
      "outputs": []
    },
    {
      "cell_type": "markdown",
      "source": [
        "###**5.  Tiến hành tạo thư mực và file lưu trữ, và bắt đầu crawl data**"
      ],
      "metadata": {
        "id": "k0xWKdd53A52"
      }
    },
    {
      "cell_type": "code",
      "source": [
        "if __name__== \"__main__\":\n",
        "  try:\n",
        "    os.system(\"mkdir /content/gdrive/MyDrive/Data\") #Tao thu muc Data trong drive\n",
        "  except:\n",
        "    pass\n",
        "  filename = str(input(\"Nhap ten file can luu (vi du: diemthi2022.csv): \")) #tạo tên file lưu\n",
        "  try:\n",
        "    os.system(\"touch /content/gdrive/MyDrive/Data/\"+filename) #Tao file de luu tru\n",
        "  except:\n",
        "    pass\n",
        "  number = 1\n",
        "  i =0\n",
        "  idTinh =1\n",
        "  file = open(\"/content/gdrive/MyDrive/Data/\"+filename,\"w+\")\n",
        "  file.write(\"Code,DiaLi,GDCD,HoaHoc,KHTN,KHXH,LichSu,NgoaiNgu,NguVan,SinhHoc,Toan,VatLi,\\n\")\n",
        "  while True:\n",
        "    SBD = CreateSBD(idTinh,number).create() #tao so bao danh \n",
        "    try: #sử dụng ngoại lệ để khi số báo danh không có người thi thì sẽ không bị dừng process\n",
        "      process = GetData(2022,SBD).rawData()\n",
        "    \n",
        "      s = \"\"\n",
        "      process.pop(\"ListGroup\") #xóa key ListGroup đi\n",
        "      process.pop(\"Result\") #xóa key Result đi\n",
        "      \n",
        "      for key,mark in process.items():\n",
        "        if mark == \"\":\n",
        "          mark = -1  #các điểm trống, tức môn không thi sẽ cho = -1\n",
        "        s += str(mark) + \",\" #tạo format csv\n",
        "      file.write(s+\"\\n\")\n",
        "      number += 1\n",
        "    except:\n",
        "      i += 1\n",
        "    if i>100: #khi chạy 100 thí sinh kế tiếp mà kh có dữ liệu thì chuyển qua mã tỉnh khác\n",
        "      idTinh += 1\n",
        "    if idTinh == 65: #vi ma tinh chay tu 1 den 64, nen qua 65 sẽ kết thúc\n",
        "      break\n",
        "  file.close()"
      ],
      "metadata": {
        "colab": {
          "base_uri": "https://localhost:8080/",
          "height": 536
        },
        "id": "6leW4R2g9-ju",
        "outputId": "6a82474c-e965-41ae-aa9c-eaa6547dba30"
      },
      "execution_count": 42,
      "outputs": [
        {
          "output_type": "error",
          "ename": "KeyboardInterrupt",
          "evalue": "ignored",
          "traceback": [
            "\u001b[0;31m---------------------------------------------------------------------------\u001b[0m",
            "\u001b[0;31mKeyboardInterrupt\u001b[0m                         Traceback (most recent call last)",
            "\u001b[0;32m/usr/local/lib/python3.7/dist-packages/ipykernel/kernelbase.py\u001b[0m in \u001b[0;36m_input_request\u001b[0;34m(self, prompt, ident, parent, password)\u001b[0m\n\u001b[1;32m    728\u001b[0m             \u001b[0;32mtry\u001b[0m\u001b[0;34m:\u001b[0m\u001b[0;34m\u001b[0m\u001b[0;34m\u001b[0m\u001b[0m\n\u001b[0;32m--> 729\u001b[0;31m                 \u001b[0mident\u001b[0m\u001b[0;34m,\u001b[0m \u001b[0mreply\u001b[0m \u001b[0;34m=\u001b[0m \u001b[0mself\u001b[0m\u001b[0;34m.\u001b[0m\u001b[0msession\u001b[0m\u001b[0;34m.\u001b[0m\u001b[0mrecv\u001b[0m\u001b[0;34m(\u001b[0m\u001b[0mself\u001b[0m\u001b[0;34m.\u001b[0m\u001b[0mstdin_socket\u001b[0m\u001b[0;34m,\u001b[0m \u001b[0;36m0\u001b[0m\u001b[0;34m)\u001b[0m\u001b[0;34m\u001b[0m\u001b[0;34m\u001b[0m\u001b[0m\n\u001b[0m\u001b[1;32m    730\u001b[0m             \u001b[0;32mexcept\u001b[0m \u001b[0mException\u001b[0m\u001b[0;34m:\u001b[0m\u001b[0;34m\u001b[0m\u001b[0;34m\u001b[0m\u001b[0m\n",
            "\u001b[0;32m/usr/local/lib/python3.7/dist-packages/jupyter_client/session.py\u001b[0m in \u001b[0;36mrecv\u001b[0;34m(self, socket, mode, content, copy)\u001b[0m\n\u001b[1;32m    802\u001b[0m         \u001b[0;32mtry\u001b[0m\u001b[0;34m:\u001b[0m\u001b[0;34m\u001b[0m\u001b[0;34m\u001b[0m\u001b[0m\n\u001b[0;32m--> 803\u001b[0;31m             \u001b[0mmsg_list\u001b[0m \u001b[0;34m=\u001b[0m \u001b[0msocket\u001b[0m\u001b[0;34m.\u001b[0m\u001b[0mrecv_multipart\u001b[0m\u001b[0;34m(\u001b[0m\u001b[0mmode\u001b[0m\u001b[0;34m,\u001b[0m \u001b[0mcopy\u001b[0m\u001b[0;34m=\u001b[0m\u001b[0mcopy\u001b[0m\u001b[0;34m)\u001b[0m\u001b[0;34m\u001b[0m\u001b[0;34m\u001b[0m\u001b[0m\n\u001b[0m\u001b[1;32m    804\u001b[0m         \u001b[0;32mexcept\u001b[0m \u001b[0mzmq\u001b[0m\u001b[0;34m.\u001b[0m\u001b[0mZMQError\u001b[0m \u001b[0;32mas\u001b[0m \u001b[0me\u001b[0m\u001b[0;34m:\u001b[0m\u001b[0;34m\u001b[0m\u001b[0;34m\u001b[0m\u001b[0m\n",
            "\u001b[0;32m/usr/local/lib/python3.7/dist-packages/zmq/sugar/socket.py\u001b[0m in \u001b[0;36mrecv_multipart\u001b[0;34m(self, flags, copy, track)\u001b[0m\n\u001b[1;32m    726\u001b[0m         \"\"\"\n\u001b[0;32m--> 727\u001b[0;31m         \u001b[0mparts\u001b[0m \u001b[0;34m=\u001b[0m \u001b[0;34m[\u001b[0m\u001b[0mself\u001b[0m\u001b[0;34m.\u001b[0m\u001b[0mrecv\u001b[0m\u001b[0;34m(\u001b[0m\u001b[0mflags\u001b[0m\u001b[0;34m,\u001b[0m \u001b[0mcopy\u001b[0m\u001b[0;34m=\u001b[0m\u001b[0mcopy\u001b[0m\u001b[0;34m,\u001b[0m \u001b[0mtrack\u001b[0m\u001b[0;34m=\u001b[0m\u001b[0mtrack\u001b[0m\u001b[0;34m)\u001b[0m\u001b[0;34m]\u001b[0m\u001b[0;34m\u001b[0m\u001b[0;34m\u001b[0m\u001b[0m\n\u001b[0m\u001b[1;32m    728\u001b[0m         \u001b[0;31m# have first part already, only loop while more to receive\u001b[0m\u001b[0;34m\u001b[0m\u001b[0;34m\u001b[0m\u001b[0;34m\u001b[0m\u001b[0m\n",
            "\u001b[0;32mzmq/backend/cython/socket.pyx\u001b[0m in \u001b[0;36mzmq.backend.cython.socket.Socket.recv\u001b[0;34m()\u001b[0m\n",
            "\u001b[0;32mzmq/backend/cython/socket.pyx\u001b[0m in \u001b[0;36mzmq.backend.cython.socket.Socket.recv\u001b[0;34m()\u001b[0m\n",
            "\u001b[0;32mzmq/backend/cython/socket.pyx\u001b[0m in \u001b[0;36mzmq.backend.cython.socket._recv_copy\u001b[0;34m()\u001b[0m\n",
            "\u001b[0;32m/usr/local/lib/python3.7/dist-packages/zmq/backend/cython/checkrc.pxd\u001b[0m in \u001b[0;36mzmq.backend.cython.checkrc._check_rc\u001b[0;34m()\u001b[0m\n",
            "\u001b[0;31mKeyboardInterrupt\u001b[0m: ",
            "\nDuring handling of the above exception, another exception occurred:\n",
            "\u001b[0;31mKeyboardInterrupt\u001b[0m                         Traceback (most recent call last)",
            "\u001b[0;32m<ipython-input-42-7314092fc739>\u001b[0m in \u001b[0;36m<module>\u001b[0;34m()\u001b[0m\n\u001b[1;32m      4\u001b[0m   \u001b[0;32mexcept\u001b[0m\u001b[0;34m:\u001b[0m\u001b[0;34m\u001b[0m\u001b[0;34m\u001b[0m\u001b[0m\n\u001b[1;32m      5\u001b[0m     \u001b[0;32mpass\u001b[0m\u001b[0;34m\u001b[0m\u001b[0;34m\u001b[0m\u001b[0m\n\u001b[0;32m----> 6\u001b[0;31m   \u001b[0mfilename\u001b[0m \u001b[0;34m=\u001b[0m \u001b[0mstr\u001b[0m\u001b[0;34m(\u001b[0m\u001b[0minput\u001b[0m\u001b[0;34m(\u001b[0m\u001b[0;34m\"Nhap ten file can luu (vi du: diemthi2022.csv): \"\u001b[0m\u001b[0;34m)\u001b[0m\u001b[0;34m)\u001b[0m\u001b[0;34m\u001b[0m\u001b[0;34m\u001b[0m\u001b[0m\n\u001b[0m\u001b[1;32m      7\u001b[0m   \u001b[0;32mtry\u001b[0m\u001b[0;34m:\u001b[0m\u001b[0;34m\u001b[0m\u001b[0;34m\u001b[0m\u001b[0m\n\u001b[1;32m      8\u001b[0m     \u001b[0mos\u001b[0m\u001b[0;34m.\u001b[0m\u001b[0msystem\u001b[0m\u001b[0;34m(\u001b[0m\u001b[0;34m\"touch /content/gdrive/MyDrive/Data/\"\u001b[0m\u001b[0;34m+\u001b[0m\u001b[0mfilename\u001b[0m\u001b[0;34m)\u001b[0m \u001b[0;31m#Tao file de luu tru\u001b[0m\u001b[0;34m\u001b[0m\u001b[0;34m\u001b[0m\u001b[0m\n",
            "\u001b[0;32m/usr/local/lib/python3.7/dist-packages/ipykernel/kernelbase.py\u001b[0m in \u001b[0;36mraw_input\u001b[0;34m(self, prompt)\u001b[0m\n\u001b[1;32m    702\u001b[0m             \u001b[0mself\u001b[0m\u001b[0;34m.\u001b[0m\u001b[0m_parent_ident\u001b[0m\u001b[0;34m,\u001b[0m\u001b[0;34m\u001b[0m\u001b[0;34m\u001b[0m\u001b[0m\n\u001b[1;32m    703\u001b[0m             \u001b[0mself\u001b[0m\u001b[0;34m.\u001b[0m\u001b[0m_parent_header\u001b[0m\u001b[0;34m,\u001b[0m\u001b[0;34m\u001b[0m\u001b[0;34m\u001b[0m\u001b[0m\n\u001b[0;32m--> 704\u001b[0;31m             \u001b[0mpassword\u001b[0m\u001b[0;34m=\u001b[0m\u001b[0;32mFalse\u001b[0m\u001b[0;34m,\u001b[0m\u001b[0;34m\u001b[0m\u001b[0;34m\u001b[0m\u001b[0m\n\u001b[0m\u001b[1;32m    705\u001b[0m         )\n\u001b[1;32m    706\u001b[0m \u001b[0;34m\u001b[0m\u001b[0m\n",
            "\u001b[0;32m/usr/local/lib/python3.7/dist-packages/ipykernel/kernelbase.py\u001b[0m in \u001b[0;36m_input_request\u001b[0;34m(self, prompt, ident, parent, password)\u001b[0m\n\u001b[1;32m    732\u001b[0m             \u001b[0;32mexcept\u001b[0m \u001b[0mKeyboardInterrupt\u001b[0m\u001b[0;34m:\u001b[0m\u001b[0;34m\u001b[0m\u001b[0;34m\u001b[0m\u001b[0m\n\u001b[1;32m    733\u001b[0m                 \u001b[0;31m# re-raise KeyboardInterrupt, to truncate traceback\u001b[0m\u001b[0;34m\u001b[0m\u001b[0;34m\u001b[0m\u001b[0;34m\u001b[0m\u001b[0m\n\u001b[0;32m--> 734\u001b[0;31m                 \u001b[0;32mraise\u001b[0m \u001b[0mKeyboardInterrupt\u001b[0m\u001b[0;34m\u001b[0m\u001b[0;34m\u001b[0m\u001b[0m\n\u001b[0m\u001b[1;32m    735\u001b[0m             \u001b[0;32melse\u001b[0m\u001b[0;34m:\u001b[0m\u001b[0;34m\u001b[0m\u001b[0;34m\u001b[0m\u001b[0m\n\u001b[1;32m    736\u001b[0m                 \u001b[0;32mbreak\u001b[0m\u001b[0;34m\u001b[0m\u001b[0;34m\u001b[0m\u001b[0m\n",
            "\u001b[0;31mKeyboardInterrupt\u001b[0m: "
          ]
        }
      ]
    },
    {
      "cell_type": "code",
      "source": [
        ""
      ],
      "metadata": {
        "id": "0G6b0rAHwR99"
      },
      "execution_count": null,
      "outputs": []
    }
  ]
}