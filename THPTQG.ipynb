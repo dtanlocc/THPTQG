{
  "nbformat": 4,
  "nbformat_minor": 0,
  "metadata": {
    "colab": {
      "name": "THPTQG.ipynb",
      "provenance": [],
      "collapsed_sections": [],
      "mount_file_id": "1ra0yajnx_v0SY56frrGHmuDSsieS8t0E",
      "authorship_tag": "ABX9TyPbCEenr+5c2bCrmwcCTgEh",
      "include_colab_link": true
    },
    "kernelspec": {
      "name": "python3",
      "display_name": "Python 3"
    },
    "language_info": {
      "name": "python"
    },
    "gpuClass": "standard"
  },
  "cells": [
    {
      "cell_type": "markdown",
      "metadata": {
        "id": "view-in-github",
        "colab_type": "text"
      },
      "source": [
        "<a href=\"https://colab.research.google.com/github/dtanlocc/THPTQG/blob/main/THPTQG.ipynb\" target=\"_parent\"><img src=\"https://colab.research.google.com/assets/colab-badge.svg\" alt=\"Open In Colab\"/></a>"
      ]
    },
    {
      "cell_type": "markdown",
      "source": [
        "###**1.   Kết nối với drive để tạo thư mục và file lưu dữ data**"
      ],
      "metadata": {
        "id": "79C-01iZvUvt"
      }
    },
    {
      "cell_type": "code",
      "source": [
        "from google.colab import drive\n",
        "drive.mount(\"/content/drive\")"
      ],
      "metadata": {
        "colab": {
          "base_uri": "https://localhost:8080/"
        },
        "id": "K307lAvNysjA",
        "outputId": "07c2bce5-91d3-4c85-9ad9-afe0ab2077b1"
      },
      "execution_count": 1,
      "outputs": [
        {
          "output_type": "stream",
          "name": "stdout",
          "text": [
            "Drive already mounted at /content/drive; to attempt to forcibly remount, call drive.mount(\"/content/drive\", force_remount=True).\n"
          ]
        }
      ]
    },
    {
      "cell_type": "markdown",
      "source": [
        "\n",
        "###**2.   import thư viện cần thiết**"
      ],
      "metadata": {
        "id": "dp8pDteg8WIG"
      }
    },
    {
      "cell_type": "code",
      "execution_count": 5,
      "metadata": {
        "id": "e7B9riSZ7_DA"
      },
      "outputs": [],
      "source": [
        "import requests\n",
        "import pathlib\n",
        "import json\n",
        "import csv\n",
        "import pandas\n",
        "import time\n",
        "import os"
      ]
    },
    {
      "cell_type": "markdown",
      "source": [
        "###**3.   Tạo lớp để lấy điểm dựa vào năm thi và số báo danh**\n"
      ],
      "metadata": {
        "id": "1DgB95In8amn"
      }
    },
    {
      "cell_type": "code",
      "source": [
        "class GetData:\n",
        "  def __init__(self,year,SBD) -> None:\n",
        "    self.year = year\n",
        "    self.id= SBD\n",
        "\n",
        "  def _getLink(self):\n",
        "    return f\"https://dantri.com.vn/thpt/1/0/99/{self.id}/{self.year}/0.2/search-gradle.htm\"\n",
        "  \n",
        "  def rawData(self):\n",
        "    \n",
        "    url = self._getLink()\n",
        "    response = requests.get(url)\n",
        "    data = response.json()\n",
        "    return data['student']"
      ],
      "metadata": {
        "id": "iD4tGlLe8LNT"
      },
      "execution_count": 8,
      "outputs": []
    },
    {
      "cell_type": "markdown",
      "source": [
        "###**4.  Tạo số báo danh dựa vào danh sách mã tỉnh**\n",
        "DANH SÁCH MÃ TỈNH 2 SỐ ĐẦU CỦA SBD\n",
        "*   01 - THÀNH PHỐ HÀ NỘI\n",
        "*   02 - THÀNH PHỐ HỒ CHÍ MINH\n",
        "*   03 - THÀNH PHỐ HẢI PHÒNG\n",
        "*   04 - THÀNH PHỐ ĐÀ NẴNG\n",
        "*   05 - TỈNH HÀ GIANG\n",
        "*   06 - TỈNH CAO BẰNG\n",
        "*   07 - TỈNH LAI CHÂU\n",
        "*   08 - TỈNH LÀO CAI\n",
        "*   09 - TỈNH TUYÊN QUANG\n",
        "*   10 - TỈNH LẠNG SƠN\n",
        "*   11 - TỈNH BẮC KẠN\n",
        "*   12 - TỈNH THÁI NGUYÊN\n",
        "*   13 - TỈNH YÊN BÁI\n",
        "*   14 - TỈNH SƠN LA\n",
        "*   15 - TỈNH PHÚ THỌ\n",
        "*   16 - TỈNH VĨNH PHÚC\n",
        "*   17 - TỈNH QUẢNG NINH\n",
        "*   18 - TỈNH BẮC GIANG\n",
        "*   19 - TỈNH BẮC NINH\n",
        "*   21 - TỈNH HẢI DƯƠNG\n",
        "*   22 - TỈNH HƯNG YÊN\n",
        "*   23 - TỈNH HÒA BÌNH\n",
        "*   24 - TỈNH HÀ NAM\n",
        "*   25 - TỈNH NAM ĐỊNH\n",
        "*   26 – TỈNH THÁI BÌNH\n",
        "*   27 – TỈNH NINH BÌNH\n",
        "*   28 – TỈNH THANH HÓA\n",
        "*   29 – TỈNH NGHỆ AN\n",
        "*   30 – TỈNH HÀ TĨNH\n",
        "*   31 – TỈNH QUẢNG BÌNH\n",
        "*   32 – TỈNH QUẢNG TRỊ\n",
        "*   33 – TỈNH THỪA THIÊN - HUẾ\n",
        "*   34 – TỈNH QUẢNG NAM\n",
        "*   35 – TỈNH QUẢNG NGÃI\n",
        "*   36 – TỈNH KON TUM\n",
        "*   37 – TỈNH BÌNH ĐỊNH\n",
        "*   38 – TỈNH GIA LAI\n",
        "*   39 – TỈNH PHÚ YÊN\n",
        "*   40 – TỈNH ĐẮK LẮK\n",
        "*   41 – TỈNH KHÁNH HÒA\n",
        "*   42 – TỈNH LÂM ĐỒNG\n",
        "*   43 – TỈNH BÌNH PHƯỚC\n",
        "*   44 – TỈNH BÌNH DƯƠNG\n",
        "*   45 – TỈNH NINH THUẬN\n",
        "*   46 – TỈNH TÂY NINH\n",
        "*   47 – TỈNH BÌNH THUẬN\n",
        "*   48 – TỈNH ĐỒNG NAI\n",
        "*   49 – TỈNH LONG AN\n",
        "*   50 – TỈNH ĐỒNG THÁP\n",
        "*   51 – TỈNH AN GIANG\n",
        "*   52 – TỈNH BÀ RỊA – VŨNG TÀU\n",
        "*   53 – TỈNH TIỀN GIANG\n",
        "*   54 – TỈNH KIÊN GIANG\n",
        "*   55 – THÀNH PHỐ CẦN THƠ\n",
        "*   56 – TỈNH BẾN TRE\n",
        "*   57 – TỈNH VĨNH LONG\n",
        "*   58 – TỈNH TRÀ VINH\n",
        "*   59 – TỈNH SÓC TRĂNG\n",
        "*   60 – TỈNH BẠC LIÊU\n",
        "*   61 – TỈNH CÀ MAU\n",
        "*   62 – TỈNH ĐIỆN BIÊN\n",
        "*   63 – TỈNH ĐĂK NÔNG\n",
        "*   64 – TỈNH HẬU GIANG"
      ],
      "metadata": {
        "id": "K0LJXxQdutiG"
      }
    },
    {
      "cell_type": "code",
      "source": [
        "class CreateSBD:\n",
        "  def __init__(self,idTinh,number) -> None:\n",
        "      self.id = idTinh\n",
        "      self.number = number\n",
        "  def numberOfnumber(self,number): #đếm số chữ số\n",
        "    count =0\n",
        "    while (number >0):\n",
        "      count += 1\n",
        "      number = number//10\n",
        "    return count\n",
        "  \n",
        "  def create(self): #hàm tạo ra số báo danh\n",
        "    if self.id//10 == 0:\n",
        "      SBD = \"0\" + str(self.id)\n",
        "    else:\n",
        "      SBD = str(self.id)\n",
        "    count = self.numberOfnumber(self.number)\n",
        "    SBD += (6-count)*\"0\"+str(self.number)\n",
        "    return SBD"
      ],
      "metadata": {
        "id": "p6_rzX2kq_Qx"
      },
      "execution_count": 4,
      "outputs": []
    },
    {
      "cell_type": "markdown",
      "source": [
        "###**5.  Tiến hành tạo thư mực và file lưu trữ, và bắt đầu crawl data**"
      ],
      "metadata": {
        "id": "k0xWKdd53A52"
      }
    },
    {
      "cell_type": "code",
      "source": [
        "if __name__== \"__main__\":\n",
        "  folder = \"/content/drive/MyDrive/Data\"\n",
        "  try:\n",
        "    os.mkdir(folder) #Tao thu muc Data trong drive\n",
        "    print(\"Đã tạo thư mực lưu trữ trong đường dẫn   /content/drive/MyDrive/Data\")\n",
        "  except:\n",
        "    print(\"Thư mực đã tồn tại !!!\")\n",
        "  filename = str(input(\"Nhap ten file can luu (vi du: diemthi2022.csv): \")) #tạo tên file lưu\n",
        "  dir = folder+filename\n",
        "  # try:\n",
        "  #   os.system(\"touch \"+dir)#Tao file de luu tru\n",
        "  #   print(\"Đã tạo file lưu trữ tại \" + dir)\n",
        "  # except:\n",
        "  #   print(\"File đã tồn tại!!\")\n",
        "  # time.sleep(10)\n",
        "  number = 1\n",
        "  i =0\n",
        "  idTinh =1\n",
        "  \n",
        "  file = open(dir,mode=\"w\")\n",
        "  file.write(\"sbd,toan,van,ngoaiNgu,vatLy,hoaHoc,sinhHoc,diemTBTuNhien,lichSu,diaLy,gdcd,diemTBXaHoi,\\n\")\n",
        "  while True:\n",
        "    SBD = CreateSBD(idTinh,number).create() #tao so bao danh \n",
        "    try: #sử dụng ngoại lệ để khi số báo danh không có người thi thì sẽ không bị dừng process\n",
        "      process = GetData(2022,SBD).rawData()\n",
        "      if process['sbd'] == None:\n",
        "        print(f\"SBD không tồn tại {i}\")\n",
        "        i += 1\n",
        "      else:\n",
        "        s = \"\"\n",
        "        \n",
        "        for key,mark in process.items():\n",
        "          if mark == None:\n",
        "            mark = -1  #các điểm trống, tức môn không thi sẽ cho = -1\n",
        "          s += str(mark) + \",\" #tạo format csv\n",
        "        file.write(s+\"\\n\")\n",
        "        print(f\"Đã Crawl {SBD} thành công!!\")\n",
        "    except:\n",
        "      print(f\"SBD không tồn tại!!!\")\n",
        "      i += 1\n",
        "    number += 1\n",
        "    if i>100: #khi chạy 100 thí sinh kế tiếp mà kh có dữ liệu thì chuyển qua mã tỉnh khác\n",
        "      idTinh += 1\n",
        "    if idTinh == 65: #vi ma tinh chay tu 1 den 64, nen qua 65 sẽ kết thúc\n",
        "      break\n",
        "  file.close()"
      ],
      "metadata": {
        "colab": {
          "base_uri": "https://localhost:8080/"
        },
        "id": "6leW4R2g9-ju",
        "outputId": "05a3e651-3116-4afa-e69d-296f6aa06dd3"
      },
      "execution_count": null,
      "outputs": [
        {
          "output_type": "stream",
          "name": "stdout",
          "text": [
            "Thư mực đã tồn tại !!!\n",
            "Nhap ten file can luu (vi du: diemthi2022.csv): diemthi2022.csv\n",
            "Đã Crawl 01000001 thành công!!\n",
            "Đã Crawl 01000002 thành công!!\n",
            "Đã Crawl 01000003 thành công!!\n",
            "Đã Crawl 01000004 thành công!!\n",
            "Đã Crawl 01000005 thành công!!\n",
            "Đã Crawl 01000006 thành công!!\n",
            "Đã Crawl 01000007 thành công!!\n",
            "Đã Crawl 01000008 thành công!!\n",
            "Đã Crawl 01000009 thành công!!\n",
            "Đã Crawl 01000010 thành công!!\n",
            "Đã Crawl 01000011 thành công!!\n",
            "Đã Crawl 01000012 thành công!!\n",
            "Đã Crawl 01000013 thành công!!\n",
            "Đã Crawl 01000014 thành công!!\n",
            "Đã Crawl 01000015 thành công!!\n",
            "Đã Crawl 01000016 thành công!!\n",
            "Đã Crawl 01000017 thành công!!\n",
            "Đã Crawl 01000018 thành công!!\n",
            "Đã Crawl 01000019 thành công!!\n",
            "Đã Crawl 01000020 thành công!!\n",
            "Đã Crawl 01000021 thành công!!\n",
            "Đã Crawl 01000022 thành công!!\n",
            "Đã Crawl 01000023 thành công!!\n",
            "Đã Crawl 01000024 thành công!!\n",
            "Đã Crawl 01000025 thành công!!\n",
            "Đã Crawl 01000026 thành công!!\n",
            "Đã Crawl 01000027 thành công!!\n",
            "Đã Crawl 01000028 thành công!!\n",
            "Đã Crawl 01000029 thành công!!\n",
            "Đã Crawl 01000030 thành công!!\n",
            "Đã Crawl 01000031 thành công!!\n",
            "Đã Crawl 01000032 thành công!!\n",
            "Đã Crawl 01000033 thành công!!\n",
            "Đã Crawl 01000034 thành công!!\n",
            "Đã Crawl 01000035 thành công!!\n",
            "Đã Crawl 01000036 thành công!!\n",
            "Đã Crawl 01000037 thành công!!\n",
            "Đã Crawl 01000038 thành công!!\n",
            "Đã Crawl 01000039 thành công!!\n",
            "Đã Crawl 01000040 thành công!!\n",
            "Đã Crawl 01000041 thành công!!\n",
            "Đã Crawl 01000042 thành công!!\n",
            "Đã Crawl 01000043 thành công!!\n",
            "Đã Crawl 01000044 thành công!!\n",
            "Đã Crawl 01000045 thành công!!\n",
            "Đã Crawl 01000046 thành công!!\n",
            "Đã Crawl 01000047 thành công!!\n",
            "Đã Crawl 01000048 thành công!!\n",
            "Đã Crawl 01000049 thành công!!\n",
            "Đã Crawl 01000050 thành công!!\n",
            "Đã Crawl 01000051 thành công!!\n",
            "Đã Crawl 01000052 thành công!!\n",
            "Đã Crawl 01000053 thành công!!\n",
            "Đã Crawl 01000054 thành công!!\n",
            "SBD không tồn tại!!!\n",
            "SBD không tồn tại!!!\n",
            "Đã Crawl 01000057 thành công!!\n",
            "Đã Crawl 01000058 thành công!!\n",
            "Đã Crawl 01000059 thành công!!\n",
            "Đã Crawl 01000060 thành công!!\n",
            "Đã Crawl 01000061 thành công!!\n",
            "Đã Crawl 01000062 thành công!!\n",
            "Đã Crawl 01000063 thành công!!\n",
            "Đã Crawl 01000064 thành công!!\n",
            "Đã Crawl 01000065 thành công!!\n",
            "Đã Crawl 01000066 thành công!!\n",
            "Đã Crawl 01000067 thành công!!\n",
            "Đã Crawl 01000068 thành công!!\n",
            "Đã Crawl 01000069 thành công!!\n",
            "Đã Crawl 01000070 thành công!!\n",
            "Đã Crawl 01000071 thành công!!\n"
          ]
        }
      ]
    },
    {
      "cell_type": "code",
      "source": [
        ""
      ],
      "metadata": {
        "id": "0G6b0rAHwR99"
      },
      "execution_count": null,
      "outputs": []
    }
  ]
}